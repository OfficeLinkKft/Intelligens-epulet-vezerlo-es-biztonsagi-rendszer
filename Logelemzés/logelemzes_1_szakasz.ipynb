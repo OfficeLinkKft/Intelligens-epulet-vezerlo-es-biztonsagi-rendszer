{
 "cells": [
  {
   "cell_type": "markdown",
   "metadata": {},
   "source": [
    "# Log elemzés\n",
    "Az okosotthon rendszer moduláris felépítésű, az egyes funkciókat különálló modulok valósítják meg. Az egyes modulok két nagy csoportra oszthatóak:\n",
    "- bemenetek\n",
    "- kimenetek\n",
    "A bemenetek valamilyen szenzor típusú adatot szolgáltatnak a rendszer számára, tipikusan folytonos értéktartománnyal, míg a kimenetek tipikusan beavatkozók, amelyek valamilyen műveletet hajtanak végre, tipikusan be és kikapcsolnak, így értékük leggyakrabban kétértékű, 0 és 1.\n",
    "\n",
    "A modulok működését a rendszer logolja. Ezen logok elérhetőek feldolgozásra.\n",
    "\n",
    "Ezen munkafüzetben ezen logokat elemezzük, előfeldolgozzuk, hogy megvizsgáljuk, milyen összefüggések láthatóak az adatok közt, illetve megvizsgáljuk, hogy az adatok alapján lehet-e valamilyen szabályszerűséget felismerni, esetlegesen szabályt alkotni.\n",
    "\n",
    "A vizsgálatokat standard adatelemzési módszerekkel hajtjuk végre, majd MI módszerekkel is keresünk összefüggéseket.\n",
    "\n",
    "Az elemzésekhez a matplotlib standard könyvtárat használjuk megjelenítésre, de dinamikus adatvizualizációra, kísérletezgetésre a a matplotlib- integrációt használjuk, külön ablakos megjelenítésre, zoomolás dinamikus támogatására.\n",
    "Az integrációt az aálbbi mintakód alapján valósítottuk meg: [GTK beágyazás - (matplotlib dokumentáció)](https://matplotlib.org/3.1.0/gallery/user_interfaces/embedding_in_gtk3_panzoom_sgskip.html)\n",
    "\n",
    "Egy másik Jupiter notebookban a Holoviews rendszert használjuk dinamikus vizualizációra.\n",
    "\n"
   ]
  },
  {
   "cell_type": "code",
   "execution_count": 1,
   "metadata": {},
   "outputs": [],
   "source": [
    "# Szükséges könyvtárak\n",
    "import pandas as pd\n",
    "import matplotlib.pyplot as plt\n",
    "import seaborn as sns\n",
    "import datetime\n",
    "\n",
    "%matplotlib inline"
   ]
  },
  {
   "cell_type": "code",
   "execution_count": 2,
   "metadata": {},
   "outputs": [],
   "source": [
    "# Az ablakok kezeléséhez használt könyvtárak\n",
    "import gi\n",
    "gi.require_version('Gtk', '3.0')\n",
    "from gi.repository import Gtk\n",
    "\n",
    "from matplotlib.figure import Figure\n",
    "from matplotlib.backends.backend_gtk3agg import FigureCanvas\n",
    "from matplotlib.backends.backend_gtk3 import (\n",
    "    NavigationToolbar2GTK3 as NavigationToolbar)\n"
   ]
  },
  {
   "cell_type": "markdown",
   "metadata": {},
   "source": [
    "Az alábbiakban betöltjük a pilot rendszerben rendelkezésre álló logokat és összefűzzük egyetlen adathalmazba, hogy kényelmesen tudjunk dolgozni vele, illetve elemezhessük az adatokat. A logolban található időbélyeg adatokat egyrészt meghagyjuk az adathalmazban datetime típusra konvertálva, illetve indexet is generálunk belőle (DateTimeIndex), amely segítségével idősoros adatokkal kényelmesen dolgozhatunk majd a továbbiakban."
   ]
  },
  {
   "cell_type": "code",
   "execution_count": 3,
   "metadata": {},
   "outputs": [],
   "source": [
    "# A pilot rendszerben elérhető logok betöltése\n",
    "df_08 = pd.read_csv('./logs/msvlog1_201908.csv', sep=';', header=None, usecols=[0,1,7], names=['Variable', 'Value', 'Timestamp'])\n",
    "df_09 = pd.read_csv('./logs/msvlog1_201909.csv', sep=';', header=None, usecols=[0,1,7], names=['Variable', 'Value', 'Timestamp'])\n",
    "df_10 = pd.read_csv('./logs/msvlog1_201910.csv', sep=';', header=None, usecols=[0,1,7], names=['Variable', 'Value', 'Timestamp'])"
   ]
  },
  {
   "cell_type": "code",
   "execution_count": 4,
   "metadata": {},
   "outputs": [],
   "source": [
    "# Az adatok összefűzése egyetlen adathalmazba\n",
    "data = [df_08, df_09, df_10]\n",
    "df = pd.concat(data)"
   ]
  },
  {
   "cell_type": "code",
   "execution_count": 5,
   "metadata": {},
   "outputs": [],
   "source": [
    "# Segédfüggvények\n",
    "\n",
    "# A logban a változókat leíró oszlop az alábbi formátumú:\n",
    "# \"modulnév_bemenet-kimenet típus változó típus_változónév\"\n",
    "# Az egyes szegmenseket \"_\" karakter választja el. \n",
    "#     modulnév:              egy rövid string, amely beazonosítja a modult,\n",
    "#     bemenet-kimenet típus: egy karakter, i (input) vagy o (output)\n",
    "#     változó típus:         egy karakter, d (digitális) vagy t (folytonos)\n",
    "#     változónév:            az adott változó neve\n",
    "#\n",
    "# Példa:\n",
    "# f_od_sziv_kaz: fűtés modul, digitális kimenet, sziv_kaz változó \n",
    "#                                                (szivattyú kazán vezérlés - 0 - kikapcsolva, 1 - bekapcsolva)\n",
    "\n",
    "# A függvény a fenti formátumban lévő adatot megkapva szétbontja modul név, i/o, változónév hármasra. \n",
    "def split_variables(variable_string):\n",
    "    module, io, variable = variable_string.split('_', 2)\n",
    "    io = io[0]\n",
    "    \n",
    "    return pd.Series({\n",
    "        'Module': module,\n",
    "        'IO': io,\n",
    "        'NVariable': variable\n",
    "    })\n"
   ]
  },
  {
   "cell_type": "code",
   "execution_count": 6,
   "metadata": {},
   "outputs": [],
   "source": [
    "df_newcols = df['Variable'].apply(split_variables)\n",
    "\n",
    "df['datetime'] = pd.to_datetime(df['Timestamp'])\n",
    "df['datetime_index'] = df['datetime'] \n",
    "\n",
    "df = pd.concat([df,df_newcols],axis=1)\n",
    "\n",
    "df = df.set_index('datetime_index')\n",
    "\n",
    "df.drop(['Timestamp'], axis=1, inplace=True)\n",
    "df.drop(['Variable'], axis=1, inplace=True)"
   ]
  },
  {
   "cell_type": "code",
   "execution_count": 7,
   "metadata": {},
   "outputs": [
    {
     "name": "stdout",
     "output_type": "stream",
     "text": [
      "                     Value            datetime Module IO  NVariable\n",
      "datetime_index                                                     \n",
      "2019-08-18 11:37:07   0.00 2019-08-18 11:37:07      f  i        kaz\n",
      "2019-08-18 11:37:07   0.00 2019-08-18 11:37:07      f  i     er_kaz\n",
      "2019-08-18 11:37:07   0.00 2019-08-18 11:37:07      f  i        pa4\n",
      "2019-08-18 11:37:07   0.00 2019-08-18 11:37:07      f  i        pa2\n",
      "2019-08-18 11:37:07   0.00 2019-08-18 11:37:07      f  i        ap1\n",
      "2019-08-18 11:37:07   0.00 2019-08-18 11:37:07      f  i        ap3\n",
      "2019-08-18 11:37:07   0.00 2019-08-18 11:37:07      f  i        ep1\n",
      "2019-08-18 11:37:07   0.00 2019-08-18 11:37:07      f  i        ep3\n",
      "2019-08-18 11:37:07   0.00 2019-08-18 11:37:07      f  i        tp1\n",
      "2019-08-18 11:37:07   0.00 2019-08-18 11:37:07      f  o   sziv_kaz\n",
      "2019-08-18 11:37:07   0.00 2019-08-18 11:37:07      f  o    sziv_pf\n",
      "2019-08-18 11:37:07   0.00 2019-08-18 11:37:07      f  o   sziv_rad\n",
      "2019-08-18 11:37:07   0.00 2019-08-18 11:37:07      f  o   sziv_hmv\n",
      "2019-08-18 11:37:07   0.00 2019-08-18 11:37:07      f  o   sziv_jac\n",
      "2019-08-18 11:37:07   0.00 2019-08-18 11:37:07      f  o   sziv_kal\n",
      "2019-08-18 11:37:07   0.00 2019-08-18 11:37:07      f  o     pf_spa\n",
      "2019-08-18 11:37:07   0.00 2019-08-18 11:37:07      f  o    hmvcirk\n",
      "2019-08-18 11:37:07   0.00 2019-08-18 11:37:07      f  o      hmvuz\n",
      "2019-08-18 11:37:07   0.00 2019-08-18 11:37:07      f  o  rad_phalo\n",
      "2019-08-18 11:37:07   0.00 2019-08-18 11:37:07      f  o   tsz_pfur\n",
      "2019-08-18 11:37:07   0.00 2019-08-18 11:37:07      f  o  rad_shalo\n",
      "2019-08-18 11:37:07   0.00 2019-08-18 11:37:07      f  o    pf_pfur\n",
      "2019-08-18 11:37:07   0.00 2019-08-18 11:37:07      f  o    pf_sfur\n",
      "2019-08-18 11:37:07   0.00 2019-08-18 11:37:07      f  o      pf_tt\n",
      "2019-08-18 11:37:07   0.00 2019-08-18 11:37:07      f  o   rad_vend\n",
      "2019-08-18 11:37:07   0.00 2019-08-18 11:37:07      f  o    pf_vfur\n",
      "2019-08-18 11:37:07   0.00 2019-08-18 11:37:07      f  o     pf_nap\n",
      "2019-08-18 11:38:00  23.81 2019-08-18 11:38:00      f  i        pa4\n",
      "2019-08-18 11:38:00  23.31 2019-08-18 11:38:00      f  i        pa2\n",
      "2019-08-18 11:38:00  26.50 2019-08-18 11:38:00      f  i        ap1\n",
      "...                    ...                 ...    ... ..        ...\n",
      "2019-10-31 23:48:00  20.12 2019-10-31 23:48:00      f  i        ap3\n",
      "2019-10-31 23:48:00  23.06 2019-10-31 23:48:00      f  i        ep3\n",
      "2019-10-31 23:49:00  21.93 2019-10-31 23:49:00      f  i        ap1\n",
      "2019-10-31 23:49:00  20.18 2019-10-31 23:49:00      f  i        ap3\n",
      "2019-10-31 23:49:00  23.12 2019-10-31 23:49:00      f  i        ep3\n",
      "2019-10-31 23:50:00  20.93 2019-10-31 23:50:00      f  i        pa4\n",
      "2019-10-31 23:50:00  23.06 2019-10-31 23:50:00      f  i        ep3\n",
      "2019-10-31 23:50:00   0.00 2019-10-31 23:50:00      f  o    hmvcirk\n",
      "2019-10-31 23:50:00   0.00 2019-10-31 23:50:00      f  o   tsz_pfur\n",
      "2019-10-31 23:50:00   0.00 2019-10-31 23:50:00      f  o   sziv_rad\n",
      "2019-10-31 23:50:00   0.00 2019-10-31 23:50:00      f  o   sziv_kaz\n",
      "2019-10-31 23:52:00  20.87 2019-10-31 23:52:00      f  i        pa4\n",
      "2019-10-31 23:52:00  20.12 2019-10-31 23:52:00      f  i        ap3\n",
      "2019-10-31 23:52:00   1.00 2019-10-31 23:52:00      f  o      hmvuz\n",
      "2019-10-31 23:52:00   1.00 2019-10-31 23:52:00      f  o   sziv_hmv\n",
      "2019-10-31 23:52:00   1.00 2019-10-31 23:52:00      f  o   sziv_kaz\n",
      "2019-10-31 23:53:00  22.00 2019-10-31 23:53:00      f  i        ap1\n",
      "2019-10-31 23:53:00  23.12 2019-10-31 23:53:00      f  i        ep3\n",
      "2019-10-31 23:54:00  21.93 2019-10-31 23:54:00      f  i        ap1\n",
      "2019-10-31 23:56:00  20.93 2019-10-31 23:56:00      f  i        pa4\n",
      "2019-10-31 23:56:00  20.18 2019-10-31 23:56:00      f  i        ap3\n",
      "2019-10-31 23:56:00  23.06 2019-10-31 23:56:00      f  i        ep3\n",
      "2019-10-31 23:57:00  22.00 2019-10-31 23:57:00      f  i        ap1\n",
      "2019-10-31 23:57:00  20.12 2019-10-31 23:57:00      f  i        ap3\n",
      "2019-10-31 23:58:00  20.87 2019-10-31 23:58:00      f  i        pa4\n",
      "2019-10-31 23:58:00  21.93 2019-10-31 23:58:00      f  i        ap1\n",
      "2019-10-31 23:59:00  20.93 2019-10-31 23:59:00      f  i        pa4\n",
      "2019-10-31 23:59:00   0.00 2019-10-31 23:59:00      f  o      hmvuz\n",
      "2019-10-31 23:59:00   0.00 2019-10-31 23:59:00      f  o   sziv_hmv\n",
      "2019-10-31 23:59:00   0.00 2019-10-31 23:59:00      f  o   sziv_kaz\n",
      "\n",
      "[189957 rows x 5 columns]\n"
     ]
    }
   ],
   "source": [
    "print(df)"
   ]
  },
  {
   "cell_type": "markdown",
   "metadata": {},
   "source": [
    "A feldolgozott oszlopokat eldobjuk, majd kimentjük a feldolgozott adatokat egy csv állományba, hogy a későbbiekben a transzformációkat ne kelljen megismételni, ezen állományból a feldolgozott adatok hatékonyan visszaolvashatóak."
   ]
  },
  {
   "cell_type": "code",
   "execution_count": 8,
   "metadata": {},
   "outputs": [],
   "source": [
    "df.to_csv('preprocessed_data_080910.csv', sep=';', header=True, index=True)"
   ]
  },
  {
   "cell_type": "markdown",
   "metadata": {},
   "source": [
    "Annak érdekében, hogy már ezekkel az adatokkal dolgozzunk tovább, beolvassuk állományból az adatokat."
   ]
  },
  {
   "cell_type": "code",
   "execution_count": 9,
   "metadata": {},
   "outputs": [],
   "source": [
    "df = pd.read_csv('preprocessed_data_080910.csv', sep=';')\n",
    "df['datetime'] = pd.to_datetime(df['datetime'])\n",
    "df['datetime_index'] = pd.to_datetime(df['datetime_index'])\n",
    "df = df.set_index('datetime_index')"
   ]
  },
  {
   "cell_type": "code",
   "execution_count": 10,
   "metadata": {},
   "outputs": [
    {
     "name": "stdout",
     "output_type": "stream",
     "text": [
      "                     Value            datetime Module IO  NVariable\n",
      "datetime_index                                                     \n",
      "2019-08-18 11:37:07   0.00 2019-08-18 11:37:07      f  i        kaz\n",
      "2019-08-18 11:37:07   0.00 2019-08-18 11:37:07      f  i     er_kaz\n",
      "2019-08-18 11:37:07   0.00 2019-08-18 11:37:07      f  i        pa4\n",
      "2019-08-18 11:37:07   0.00 2019-08-18 11:37:07      f  i        pa2\n",
      "2019-08-18 11:37:07   0.00 2019-08-18 11:37:07      f  i        ap1\n",
      "2019-08-18 11:37:07   0.00 2019-08-18 11:37:07      f  i        ap3\n",
      "2019-08-18 11:37:07   0.00 2019-08-18 11:37:07      f  i        ep1\n",
      "2019-08-18 11:37:07   0.00 2019-08-18 11:37:07      f  i        ep3\n",
      "2019-08-18 11:37:07   0.00 2019-08-18 11:37:07      f  i        tp1\n",
      "2019-08-18 11:37:07   0.00 2019-08-18 11:37:07      f  o   sziv_kaz\n",
      "2019-08-18 11:37:07   0.00 2019-08-18 11:37:07      f  o    sziv_pf\n",
      "2019-08-18 11:37:07   0.00 2019-08-18 11:37:07      f  o   sziv_rad\n",
      "2019-08-18 11:37:07   0.00 2019-08-18 11:37:07      f  o   sziv_hmv\n",
      "2019-08-18 11:37:07   0.00 2019-08-18 11:37:07      f  o   sziv_jac\n",
      "2019-08-18 11:37:07   0.00 2019-08-18 11:37:07      f  o   sziv_kal\n",
      "2019-08-18 11:37:07   0.00 2019-08-18 11:37:07      f  o     pf_spa\n",
      "2019-08-18 11:37:07   0.00 2019-08-18 11:37:07      f  o    hmvcirk\n",
      "2019-08-18 11:37:07   0.00 2019-08-18 11:37:07      f  o      hmvuz\n",
      "2019-08-18 11:37:07   0.00 2019-08-18 11:37:07      f  o  rad_phalo\n",
      "2019-08-18 11:37:07   0.00 2019-08-18 11:37:07      f  o   tsz_pfur\n",
      "2019-08-18 11:37:07   0.00 2019-08-18 11:37:07      f  o  rad_shalo\n",
      "2019-08-18 11:37:07   0.00 2019-08-18 11:37:07      f  o    pf_pfur\n",
      "2019-08-18 11:37:07   0.00 2019-08-18 11:37:07      f  o    pf_sfur\n",
      "2019-08-18 11:37:07   0.00 2019-08-18 11:37:07      f  o      pf_tt\n",
      "2019-08-18 11:37:07   0.00 2019-08-18 11:37:07      f  o   rad_vend\n",
      "2019-08-18 11:37:07   0.00 2019-08-18 11:37:07      f  o    pf_vfur\n",
      "2019-08-18 11:37:07   0.00 2019-08-18 11:37:07      f  o     pf_nap\n",
      "2019-08-18 11:38:00  23.81 2019-08-18 11:38:00      f  i        pa4\n",
      "2019-08-18 11:38:00  23.31 2019-08-18 11:38:00      f  i        pa2\n",
      "2019-08-18 11:38:00  26.50 2019-08-18 11:38:00      f  i        ap1\n",
      "...                    ...                 ...    ... ..        ...\n",
      "2019-10-31 23:48:00  20.12 2019-10-31 23:48:00      f  i        ap3\n",
      "2019-10-31 23:48:00  23.06 2019-10-31 23:48:00      f  i        ep3\n",
      "2019-10-31 23:49:00  21.93 2019-10-31 23:49:00      f  i        ap1\n",
      "2019-10-31 23:49:00  20.18 2019-10-31 23:49:00      f  i        ap3\n",
      "2019-10-31 23:49:00  23.12 2019-10-31 23:49:00      f  i        ep3\n",
      "2019-10-31 23:50:00  20.93 2019-10-31 23:50:00      f  i        pa4\n",
      "2019-10-31 23:50:00  23.06 2019-10-31 23:50:00      f  i        ep3\n",
      "2019-10-31 23:50:00   0.00 2019-10-31 23:50:00      f  o    hmvcirk\n",
      "2019-10-31 23:50:00   0.00 2019-10-31 23:50:00      f  o   tsz_pfur\n",
      "2019-10-31 23:50:00   0.00 2019-10-31 23:50:00      f  o   sziv_rad\n",
      "2019-10-31 23:50:00   0.00 2019-10-31 23:50:00      f  o   sziv_kaz\n",
      "2019-10-31 23:52:00  20.87 2019-10-31 23:52:00      f  i        pa4\n",
      "2019-10-31 23:52:00  20.12 2019-10-31 23:52:00      f  i        ap3\n",
      "2019-10-31 23:52:00   1.00 2019-10-31 23:52:00      f  o      hmvuz\n",
      "2019-10-31 23:52:00   1.00 2019-10-31 23:52:00      f  o   sziv_hmv\n",
      "2019-10-31 23:52:00   1.00 2019-10-31 23:52:00      f  o   sziv_kaz\n",
      "2019-10-31 23:53:00  22.00 2019-10-31 23:53:00      f  i        ap1\n",
      "2019-10-31 23:53:00  23.12 2019-10-31 23:53:00      f  i        ep3\n",
      "2019-10-31 23:54:00  21.93 2019-10-31 23:54:00      f  i        ap1\n",
      "2019-10-31 23:56:00  20.93 2019-10-31 23:56:00      f  i        pa4\n",
      "2019-10-31 23:56:00  20.18 2019-10-31 23:56:00      f  i        ap3\n",
      "2019-10-31 23:56:00  23.06 2019-10-31 23:56:00      f  i        ep3\n",
      "2019-10-31 23:57:00  22.00 2019-10-31 23:57:00      f  i        ap1\n",
      "2019-10-31 23:57:00  20.12 2019-10-31 23:57:00      f  i        ap3\n",
      "2019-10-31 23:58:00  20.87 2019-10-31 23:58:00      f  i        pa4\n",
      "2019-10-31 23:58:00  21.93 2019-10-31 23:58:00      f  i        ap1\n",
      "2019-10-31 23:59:00  20.93 2019-10-31 23:59:00      f  i        pa4\n",
      "2019-10-31 23:59:00   0.00 2019-10-31 23:59:00      f  o      hmvuz\n",
      "2019-10-31 23:59:00   0.00 2019-10-31 23:59:00      f  o   sziv_hmv\n",
      "2019-10-31 23:59:00   0.00 2019-10-31 23:59:00      f  o   sziv_kaz\n",
      "\n",
      "[189957 rows x 5 columns]\n"
     ]
    }
   ],
   "source": [
    "print(df)"
   ]
  },
  {
   "cell_type": "markdown",
   "metadata": {},
   "source": [
    "Egy egszerű plottal megnézzük a sziv_kaz változó értékét 08.18 11 órakor."
   ]
  },
  {
   "cell_type": "code",
   "execution_count": 11,
   "metadata": {},
   "outputs": [
    {
     "data": {
      "image/png": "[encoded data removed]",
      "text/plain": [
       "<Figure size 432x288 with 1 Axes>"
      ]
     },
     "metadata": {
      "needs_background": "light"
     },
     "output_type": "display_data"
    }
   ],
   "source": [
    "y = df.loc[df['NVariable'] == 'sziv_kaz'].Value\n",
    "y = y[y.index.day == 18]\n",
    "y = y[y.index.month == 8]\n",
    "y = y[y.index.hour == 11]\n",
    "\n",
    "\n",
    "x = y.index.strftime(\"%m-%d %H:%M:%S\")\n",
    "\n",
    "plt.plot(x,y)\n",
    "plt.show()"
   ]
  },
  {
   "cell_type": "markdown",
   "metadata": {},
   "source": [
    "Egy egyszerű hisztogram:"
   ]
  },
  {
   "cell_type": "code",
   "execution_count": 12,
   "metadata": {},
   "outputs": [
    {
     "data": {
      "text/plain": [
       "array([[<matplotlib.axes._subplots.AxesSubplot object at 0x7f818b52d2e8>]],\n",
       "      dtype=object)"
      ]
     },
     "execution_count": 12,
     "metadata": {},
     "output_type": "execute_result"
    },
    {
     "data": {
      "image/png": "[encoded data removed]",
      "text/plain": [
       "<Figure size 432x288 with 1 Axes>"
      ]
     },
     "metadata": {
      "needs_background": "light"
     },
     "output_type": "display_data"
    }
   ],
   "source": [
    "pd.DataFrame.hist(df.loc[df['NVariable'] == 'sziv_kaz'])"
   ]
  },
  {
   "cell_type": "code",
   "execution_count": null,
   "metadata": {},
   "outputs": [],
   "source": [
    "y = df.loc[df['NVariable'] == 'sziv_kaz'].Value\n",
    "y = y[y.index.month == 8]\n",
    "y = y[y.index.day == 18]\n",
    "x = y.index.strftime(\"%m-%d %H:%M:%S\")\n",
    "\n",
    "win = Gtk.Window()\n",
    "win.connect(\"destroy\", lambda x: Gtk.main_quit())\n",
    "win.set_default_size(400,300)\n",
    "win.set_title(\"Embedding in GTK\")\n",
    "\n",
    "vbox = Gtk.VBox()\n",
    "win.add(vbox)\n",
    "\n",
    "fig = Figure(figsize=(5,4), dpi=100)\n",
    "ax = fig.add_subplot(111)\n",
    "ax.plot(x,y)\n",
    "\n",
    "canvas = FigureCanvas(fig)  # a Gtk.DrawingArea\n",
    "vbox.pack_start(canvas, True, True, 0)\n",
    "toolbar = NavigationToolbar(canvas, win)\n",
    "vbox.pack_start(toolbar, False, False, 0)\n",
    "\n",
    "win.show_all()\n",
    "Gtk.main()\n"
   ]
  },
  {
   "cell_type": "markdown",
   "metadata": {},
   "source": [
    "A továbbiakban pár lépésben végigvisszük az úgynevezett felderítő adatelemzés ([EDA](https://towardsdatascience.com/exploratory-data-analysis-in-python-c9a77dfa39ce)) klasszikus lépéseit a hivatkozott referencia szerint."
   ]
  },
  {
   "cell_type": "markdown",
   "metadata": {},
   "source": [
    "# Felderítő adatelemzés (EDA)\n",
    "\n",
    "A felderítő adatelemzés célja, hogy megértsük az adathalmazt, amelyen dolgozni szeretnénk, illetve amely az adatmodellezésünk alapja. Ehhez megvizsgáljuk az adatok főbb jellemzőit, vizualizáljuk az adatokat. A leggyakrabban használt diagramok:\n",
    "- hisztogram\n",
    "- boksz plot\n",
    "- scatter plot\n",
    "\n",
    "A leggyakrabban használt Python könyvtárak adatelemzéshez\n",
    "- pandas\n",
    "- numpy\n",
    "- seaborn\n",
    "- matplotlib.pyplot\n",
    "\n",
    "Az alábbiakban végigvesszük a főbb adatelemzési lépéseket az adathalmazunkon.\n",
    "\n",
    "## Adat betöltés\n",
    "Az adatbetöltést nagyon hatékonyan támogatja a panda könyvtár. CSV álományokat egyetlen utasítással be lehet töltenei panda DataFrame-be, amellyen utána hatékonyan el lehet végezni a feldolgozást.\n",
    "\n"
   ]
  },
  {
   "cell_type": "code",
   "execution_count": 13,
   "metadata": {},
   "outputs": [],
   "source": [
    "df = pd.read_csv('./logs/msvlog1_201908.csv', sep=';', header=None)"
   ]
  },
  {
   "cell_type": "markdown",
   "metadata": {},
   "source": [
    "Egyszerűen meg tudjuk nézni az adatokat táblázatos formában:\n",
    "Az első tíz adatsor  fejléccel:"
   ]
  },
  {
   "cell_type": "code",
   "execution_count": 14,
   "metadata": {},
   "outputs": [
    {
     "data": {
      "text/html": [
       "<div>\n",
       "<style scoped>\n",
       "    .dataframe tbody tr th:only-of-type {\n",
       "        vertical-align: middle;\n",
       "    }\n",
       "\n",
       "    .dataframe tbody tr th {\n",
       "        vertical-align: top;\n",
       "    }\n",
       "\n",
       "    .dataframe thead th {\n",
       "        text-align: right;\n",
       "    }\n",
       "</style>\n",
       "<table border=\"1\" class=\"dataframe\">\n",
       "  <thead>\n",
       "    <tr style=\"text-align: right;\">\n",
       "      <th></th>\n",
       "      <th>0</th>\n",
       "      <th>1</th>\n",
       "      <th>2</th>\n",
       "      <th>3</th>\n",
       "      <th>4</th>\n",
       "      <th>5</th>\n",
       "      <th>6</th>\n",
       "      <th>7</th>\n",
       "    </tr>\n",
       "  </thead>\n",
       "  <tbody>\n",
       "    <tr>\n",
       "      <th>0</th>\n",
       "      <td>f_id_kaz</td>\n",
       "      <td>0.0</td>\n",
       "      <td>NaN</td>\n",
       "      <td>n</td>\n",
       "      <td>NaN</td>\n",
       "      <td>1</td>\n",
       "      <td>m</td>\n",
       "      <td>2019-08-18 11:37:07</td>\n",
       "    </tr>\n",
       "    <tr>\n",
       "      <th>1</th>\n",
       "      <td>f_id_er_kaz</td>\n",
       "      <td>0.0</td>\n",
       "      <td>NaN</td>\n",
       "      <td>n</td>\n",
       "      <td>NaN</td>\n",
       "      <td>2</td>\n",
       "      <td>m</td>\n",
       "      <td>2019-08-18 11:37:07</td>\n",
       "    </tr>\n",
       "    <tr>\n",
       "      <th>2</th>\n",
       "      <td>f_it_pa4</td>\n",
       "      <td>0.0</td>\n",
       "      <td>NaN</td>\n",
       "      <td>n</td>\n",
       "      <td>NaN</td>\n",
       "      <td>3</td>\n",
       "      <td>m</td>\n",
       "      <td>2019-08-18 11:37:07</td>\n",
       "    </tr>\n",
       "    <tr>\n",
       "      <th>3</th>\n",
       "      <td>f_it_pa2</td>\n",
       "      <td>0.0</td>\n",
       "      <td>NaN</td>\n",
       "      <td>n</td>\n",
       "      <td>NaN</td>\n",
       "      <td>4</td>\n",
       "      <td>m</td>\n",
       "      <td>2019-08-18 11:37:07</td>\n",
       "    </tr>\n",
       "    <tr>\n",
       "      <th>4</th>\n",
       "      <td>f_it_ap1</td>\n",
       "      <td>0.0</td>\n",
       "      <td>NaN</td>\n",
       "      <td>n</td>\n",
       "      <td>NaN</td>\n",
       "      <td>5</td>\n",
       "      <td>m</td>\n",
       "      <td>2019-08-18 11:37:07</td>\n",
       "    </tr>\n",
       "    <tr>\n",
       "      <th>5</th>\n",
       "      <td>f_it_ap3</td>\n",
       "      <td>0.0</td>\n",
       "      <td>NaN</td>\n",
       "      <td>n</td>\n",
       "      <td>NaN</td>\n",
       "      <td>6</td>\n",
       "      <td>m</td>\n",
       "      <td>2019-08-18 11:37:07</td>\n",
       "    </tr>\n",
       "    <tr>\n",
       "      <th>6</th>\n",
       "      <td>f_it_ep1</td>\n",
       "      <td>0.0</td>\n",
       "      <td>NaN</td>\n",
       "      <td>n</td>\n",
       "      <td>NaN</td>\n",
       "      <td>7</td>\n",
       "      <td>m</td>\n",
       "      <td>2019-08-18 11:37:07</td>\n",
       "    </tr>\n",
       "    <tr>\n",
       "      <th>7</th>\n",
       "      <td>f_it_ep3</td>\n",
       "      <td>0.0</td>\n",
       "      <td>NaN</td>\n",
       "      <td>n</td>\n",
       "      <td>NaN</td>\n",
       "      <td>8</td>\n",
       "      <td>m</td>\n",
       "      <td>2019-08-18 11:37:07</td>\n",
       "    </tr>\n",
       "    <tr>\n",
       "      <th>8</th>\n",
       "      <td>f_it_tp1</td>\n",
       "      <td>0.0</td>\n",
       "      <td>NaN</td>\n",
       "      <td>n</td>\n",
       "      <td>NaN</td>\n",
       "      <td>9</td>\n",
       "      <td>m</td>\n",
       "      <td>2019-08-18 11:37:07</td>\n",
       "    </tr>\n",
       "    <tr>\n",
       "      <th>9</th>\n",
       "      <td>f_od_sziv_kaz</td>\n",
       "      <td>0.0</td>\n",
       "      <td>NaN</td>\n",
       "      <td>n</td>\n",
       "      <td>NaN</td>\n",
       "      <td>10</td>\n",
       "      <td>m</td>\n",
       "      <td>2019-08-18 11:37:07</td>\n",
       "    </tr>\n",
       "  </tbody>\n",
       "</table>\n",
       "</div>"
      ],
      "text/plain": [
       "               0    1   2  3   4   5  6                    7\n",
       "0       f_id_kaz  0.0 NaN  n NaN   1  m  2019-08-18 11:37:07\n",
       "1    f_id_er_kaz  0.0 NaN  n NaN   2  m  2019-08-18 11:37:07\n",
       "2       f_it_pa4  0.0 NaN  n NaN   3  m  2019-08-18 11:37:07\n",
       "3       f_it_pa2  0.0 NaN  n NaN   4  m  2019-08-18 11:37:07\n",
       "4       f_it_ap1  0.0 NaN  n NaN   5  m  2019-08-18 11:37:07\n",
       "5       f_it_ap3  0.0 NaN  n NaN   6  m  2019-08-18 11:37:07\n",
       "6       f_it_ep1  0.0 NaN  n NaN   7  m  2019-08-18 11:37:07\n",
       "7       f_it_ep3  0.0 NaN  n NaN   8  m  2019-08-18 11:37:07\n",
       "8       f_it_tp1  0.0 NaN  n NaN   9  m  2019-08-18 11:37:07\n",
       "9  f_od_sziv_kaz  0.0 NaN  n NaN  10  m  2019-08-18 11:37:07"
      ]
     },
     "execution_count": 14,
     "metadata": {},
     "output_type": "execute_result"
    }
   ],
   "source": [
    "df.head(10)"
   ]
  },
  {
   "cell_type": "markdown",
   "metadata": {},
   "source": [
    "Az utolsó tíz adatsor  fejléccel:"
   ]
  },
  {
   "cell_type": "code",
   "execution_count": 15,
   "metadata": {},
   "outputs": [
    {
     "data": {
      "text/html": [
       "<div>\n",
       "<style scoped>\n",
       "    .dataframe tbody tr th:only-of-type {\n",
       "        vertical-align: middle;\n",
       "    }\n",
       "\n",
       "    .dataframe tbody tr th {\n",
       "        vertical-align: top;\n",
       "    }\n",
       "\n",
       "    .dataframe thead th {\n",
       "        text-align: right;\n",
       "    }\n",
       "</style>\n",
       "<table border=\"1\" class=\"dataframe\">\n",
       "  <thead>\n",
       "    <tr style=\"text-align: right;\">\n",
       "      <th></th>\n",
       "      <th>0</th>\n",
       "      <th>1</th>\n",
       "      <th>2</th>\n",
       "      <th>3</th>\n",
       "      <th>4</th>\n",
       "      <th>5</th>\n",
       "      <th>6</th>\n",
       "      <th>7</th>\n",
       "    </tr>\n",
       "  </thead>\n",
       "  <tbody>\n",
       "    <tr>\n",
       "      <th>35646</th>\n",
       "      <td>f_od_sziv_kaz</td>\n",
       "      <td>0.00</td>\n",
       "      <td>NaN</td>\n",
       "      <td>n</td>\n",
       "      <td>NaN</td>\n",
       "      <td>35647</td>\n",
       "      <td>m</td>\n",
       "      <td>2019-08-31 23:55:00</td>\n",
       "    </tr>\n",
       "    <tr>\n",
       "      <th>35647</th>\n",
       "      <td>f_id_kaz</td>\n",
       "      <td>0.00</td>\n",
       "      <td>NaN</td>\n",
       "      <td>n</td>\n",
       "      <td>NaN</td>\n",
       "      <td>35648</td>\n",
       "      <td>m</td>\n",
       "      <td>2019-08-31 23:55:02</td>\n",
       "    </tr>\n",
       "    <tr>\n",
       "      <th>35648</th>\n",
       "      <td>f_it_pa4</td>\n",
       "      <td>24.75</td>\n",
       "      <td>NaN</td>\n",
       "      <td>n</td>\n",
       "      <td>NaN</td>\n",
       "      <td>35649</td>\n",
       "      <td>m</td>\n",
       "      <td>2019-08-31 23:56:00</td>\n",
       "    </tr>\n",
       "    <tr>\n",
       "      <th>35649</th>\n",
       "      <td>f_it_ap1</td>\n",
       "      <td>27.00</td>\n",
       "      <td>NaN</td>\n",
       "      <td>n</td>\n",
       "      <td>NaN</td>\n",
       "      <td>35650</td>\n",
       "      <td>m</td>\n",
       "      <td>2019-08-31 23:57:00</td>\n",
       "    </tr>\n",
       "    <tr>\n",
       "      <th>35650</th>\n",
       "      <td>f_it_tp1</td>\n",
       "      <td>26.56</td>\n",
       "      <td>NaN</td>\n",
       "      <td>n</td>\n",
       "      <td>NaN</td>\n",
       "      <td>35651</td>\n",
       "      <td>m</td>\n",
       "      <td>2019-08-31 23:57:00</td>\n",
       "    </tr>\n",
       "    <tr>\n",
       "      <th>35651</th>\n",
       "      <td>f_it_pa4</td>\n",
       "      <td>24.68</td>\n",
       "      <td>NaN</td>\n",
       "      <td>n</td>\n",
       "      <td>NaN</td>\n",
       "      <td>35652</td>\n",
       "      <td>m</td>\n",
       "      <td>2019-08-31 23:58:00</td>\n",
       "    </tr>\n",
       "    <tr>\n",
       "      <th>35652</th>\n",
       "      <td>f_it_ap1</td>\n",
       "      <td>27.06</td>\n",
       "      <td>NaN</td>\n",
       "      <td>n</td>\n",
       "      <td>NaN</td>\n",
       "      <td>35653</td>\n",
       "      <td>m</td>\n",
       "      <td>2019-08-31 23:58:00</td>\n",
       "    </tr>\n",
       "    <tr>\n",
       "      <th>35653</th>\n",
       "      <td>f_it_ep3</td>\n",
       "      <td>26.00</td>\n",
       "      <td>NaN</td>\n",
       "      <td>n</td>\n",
       "      <td>NaN</td>\n",
       "      <td>35654</td>\n",
       "      <td>m</td>\n",
       "      <td>2019-08-31 23:58:00</td>\n",
       "    </tr>\n",
       "    <tr>\n",
       "      <th>35654</th>\n",
       "      <td>f_it_tp1</td>\n",
       "      <td>26.62</td>\n",
       "      <td>NaN</td>\n",
       "      <td>n</td>\n",
       "      <td>NaN</td>\n",
       "      <td>35655</td>\n",
       "      <td>m</td>\n",
       "      <td>2019-08-31 23:58:00</td>\n",
       "    </tr>\n",
       "    <tr>\n",
       "      <th>35655</th>\n",
       "      <td>f_it_ap1</td>\n",
       "      <td>27.00</td>\n",
       "      <td>NaN</td>\n",
       "      <td>n</td>\n",
       "      <td>NaN</td>\n",
       "      <td>35656</td>\n",
       "      <td>m</td>\n",
       "      <td>2019-08-31 23:59:00</td>\n",
       "    </tr>\n",
       "  </tbody>\n",
       "</table>\n",
       "</div>"
      ],
      "text/plain": [
       "                   0      1   2  3   4      5  6                    7\n",
       "35646  f_od_sziv_kaz   0.00 NaN  n NaN  35647  m  2019-08-31 23:55:00\n",
       "35647       f_id_kaz   0.00 NaN  n NaN  35648  m  2019-08-31 23:55:02\n",
       "35648       f_it_pa4  24.75 NaN  n NaN  35649  m  2019-08-31 23:56:00\n",
       "35649       f_it_ap1  27.00 NaN  n NaN  35650  m  2019-08-31 23:57:00\n",
       "35650       f_it_tp1  26.56 NaN  n NaN  35651  m  2019-08-31 23:57:00\n",
       "35651       f_it_pa4  24.68 NaN  n NaN  35652  m  2019-08-31 23:58:00\n",
       "35652       f_it_ap1  27.06 NaN  n NaN  35653  m  2019-08-31 23:58:00\n",
       "35653       f_it_ep3  26.00 NaN  n NaN  35654  m  2019-08-31 23:58:00\n",
       "35654       f_it_tp1  26.62 NaN  n NaN  35655  m  2019-08-31 23:58:00\n",
       "35655       f_it_ap1  27.00 NaN  n NaN  35656  m  2019-08-31 23:59:00"
      ]
     },
     "execution_count": 15,
     "metadata": {},
     "output_type": "execute_result"
    }
   ],
   "source": [
    "df.tail(10)"
   ]
  },
  {
   "cell_type": "markdown",
   "metadata": {},
   "source": [
    "## Adattípusok\n",
    "\n",
    "Az adattípusok ellenőrzése triviális művelet. Gyakran az adatok stringként vannak tárolva, így megjelenítésük előtt valamilyen szám formátummá szükséges konvertálni azokat. Ezen felül gyakran a dátum típusú adatok is szövegként jelennek meg. A Pandas könyvtár nagyon hatékony idősoros adatok kezelésére, megjelenítésére, így a dátum adatok konvertálása is hasznos és szükséges lehet.\n",
    "\n",
    "Az adattípusokat az alábbi egyszer paranccsal tudjuk megnézni:"
   ]
  },
  {
   "cell_type": "code",
   "execution_count": 16,
   "metadata": {},
   "outputs": [
    {
     "data": {
      "text/plain": [
       "0     object\n",
       "1    float64\n",
       "2    float64\n",
       "3     object\n",
       "4    float64\n",
       "5      int64\n",
       "6     object\n",
       "7     object\n",
       "dtype: object"
      ]
     },
     "execution_count": 16,
     "metadata": {},
     "output_type": "execute_result"
    }
   ],
   "source": [
    "df.dtypes"
   ]
  },
  {
   "cell_type": "markdown",
   "metadata": {},
   "source": [
    "## Nem releváns oszlopok elhagyása\n",
    "\n",
    "Az adatelemzések nagy részében nagyon sok adatoszlopot tartalmazó adatállományokkal kell dolgozni, amelyek nagy része irreleváns az aktuális elemzésünk szempontjából. \n",
    "Ilyenkor érdemes az irreleváns oszlopokat eldobni, hogy a számunkra fontos adatokra koncentrálhassunk.\n",
    "Az oszlopokat neveik, illetve indexeik alapján dobhatjuk el."
   ]
  },
  {
   "cell_type": "code",
   "execution_count": 17,
   "metadata": {},
   "outputs": [],
   "source": [
    "df = df.drop([2,3,4], axis=1)"
   ]
  },
  {
   "cell_type": "code",
   "execution_count": 18,
   "metadata": {},
   "outputs": [
    {
     "data": {
      "text/html": [
       "<div>\n",
       "<style scoped>\n",
       "    .dataframe tbody tr th:only-of-type {\n",
       "        vertical-align: middle;\n",
       "    }\n",
       "\n",
       "    .dataframe tbody tr th {\n",
       "        vertical-align: top;\n",
       "    }\n",
       "\n",
       "    .dataframe thead th {\n",
       "        text-align: right;\n",
       "    }\n",
       "</style>\n",
       "<table border=\"1\" class=\"dataframe\">\n",
       "  <thead>\n",
       "    <tr style=\"text-align: right;\">\n",
       "      <th></th>\n",
       "      <th>0</th>\n",
       "      <th>1</th>\n",
       "      <th>5</th>\n",
       "      <th>6</th>\n",
       "      <th>7</th>\n",
       "    </tr>\n",
       "  </thead>\n",
       "  <tbody>\n",
       "    <tr>\n",
       "      <th>0</th>\n",
       "      <td>f_id_kaz</td>\n",
       "      <td>0.0</td>\n",
       "      <td>1</td>\n",
       "      <td>m</td>\n",
       "      <td>2019-08-18 11:37:07</td>\n",
       "    </tr>\n",
       "    <tr>\n",
       "      <th>1</th>\n",
       "      <td>f_id_er_kaz</td>\n",
       "      <td>0.0</td>\n",
       "      <td>2</td>\n",
       "      <td>m</td>\n",
       "      <td>2019-08-18 11:37:07</td>\n",
       "    </tr>\n",
       "    <tr>\n",
       "      <th>2</th>\n",
       "      <td>f_it_pa4</td>\n",
       "      <td>0.0</td>\n",
       "      <td>3</td>\n",
       "      <td>m</td>\n",
       "      <td>2019-08-18 11:37:07</td>\n",
       "    </tr>\n",
       "    <tr>\n",
       "      <th>3</th>\n",
       "      <td>f_it_pa2</td>\n",
       "      <td>0.0</td>\n",
       "      <td>4</td>\n",
       "      <td>m</td>\n",
       "      <td>2019-08-18 11:37:07</td>\n",
       "    </tr>\n",
       "    <tr>\n",
       "      <th>4</th>\n",
       "      <td>f_it_ap1</td>\n",
       "      <td>0.0</td>\n",
       "      <td>5</td>\n",
       "      <td>m</td>\n",
       "      <td>2019-08-18 11:37:07</td>\n",
       "    </tr>\n",
       "    <tr>\n",
       "      <th>5</th>\n",
       "      <td>f_it_ap3</td>\n",
       "      <td>0.0</td>\n",
       "      <td>6</td>\n",
       "      <td>m</td>\n",
       "      <td>2019-08-18 11:37:07</td>\n",
       "    </tr>\n",
       "    <tr>\n",
       "      <th>6</th>\n",
       "      <td>f_it_ep1</td>\n",
       "      <td>0.0</td>\n",
       "      <td>7</td>\n",
       "      <td>m</td>\n",
       "      <td>2019-08-18 11:37:07</td>\n",
       "    </tr>\n",
       "    <tr>\n",
       "      <th>7</th>\n",
       "      <td>f_it_ep3</td>\n",
       "      <td>0.0</td>\n",
       "      <td>8</td>\n",
       "      <td>m</td>\n",
       "      <td>2019-08-18 11:37:07</td>\n",
       "    </tr>\n",
       "    <tr>\n",
       "      <th>8</th>\n",
       "      <td>f_it_tp1</td>\n",
       "      <td>0.0</td>\n",
       "      <td>9</td>\n",
       "      <td>m</td>\n",
       "      <td>2019-08-18 11:37:07</td>\n",
       "    </tr>\n",
       "    <tr>\n",
       "      <th>9</th>\n",
       "      <td>f_od_sziv_kaz</td>\n",
       "      <td>0.0</td>\n",
       "      <td>10</td>\n",
       "      <td>m</td>\n",
       "      <td>2019-08-18 11:37:07</td>\n",
       "    </tr>\n",
       "  </tbody>\n",
       "</table>\n",
       "</div>"
      ],
      "text/plain": [
       "               0    1   5  6                    7\n",
       "0       f_id_kaz  0.0   1  m  2019-08-18 11:37:07\n",
       "1    f_id_er_kaz  0.0   2  m  2019-08-18 11:37:07\n",
       "2       f_it_pa4  0.0   3  m  2019-08-18 11:37:07\n",
       "3       f_it_pa2  0.0   4  m  2019-08-18 11:37:07\n",
       "4       f_it_ap1  0.0   5  m  2019-08-18 11:37:07\n",
       "5       f_it_ap3  0.0   6  m  2019-08-18 11:37:07\n",
       "6       f_it_ep1  0.0   7  m  2019-08-18 11:37:07\n",
       "7       f_it_ep3  0.0   8  m  2019-08-18 11:37:07\n",
       "8       f_it_tp1  0.0   9  m  2019-08-18 11:37:07\n",
       "9  f_od_sziv_kaz  0.0  10  m  2019-08-18 11:37:07"
      ]
     },
     "execution_count": 18,
     "metadata": {},
     "output_type": "execute_result"
    }
   ],
   "source": [
    "df.head(10)"
   ]
  },
  {
   "cell_type": "markdown",
   "metadata": {},
   "source": [
    "## Oszlopok átnevezése\n",
    "Nagyon gyakran az eredeti oszlopnevek zavaróak, illetve semmitmondóak. Az lemezést segíti, ha számunkra értelmezhető oszlopnevekkel dolgozunk.\n",
    "Ezt az oszolopnevek átnevezésével tehetjük meg.\n"
   ]
  },
  {
   "cell_type": "code",
   "execution_count": 19,
   "metadata": {},
   "outputs": [],
   "source": [
    "df = df.rename(columns={0: \"Változónév\"})"
   ]
  },
  {
   "cell_type": "code",
   "execution_count": 20,
   "metadata": {},
   "outputs": [
    {
     "data": {
      "text/html": [
       "<div>\n",
       "<style scoped>\n",
       "    .dataframe tbody tr th:only-of-type {\n",
       "        vertical-align: middle;\n",
       "    }\n",
       "\n",
       "    .dataframe tbody tr th {\n",
       "        vertical-align: top;\n",
       "    }\n",
       "\n",
       "    .dataframe thead th {\n",
       "        text-align: right;\n",
       "    }\n",
       "</style>\n",
       "<table border=\"1\" class=\"dataframe\">\n",
       "  <thead>\n",
       "    <tr style=\"text-align: right;\">\n",
       "      <th></th>\n",
       "      <th>Változónév</th>\n",
       "      <th>1</th>\n",
       "      <th>5</th>\n",
       "      <th>6</th>\n",
       "      <th>7</th>\n",
       "    </tr>\n",
       "  </thead>\n",
       "  <tbody>\n",
       "    <tr>\n",
       "      <th>0</th>\n",
       "      <td>f_id_kaz</td>\n",
       "      <td>0.0</td>\n",
       "      <td>1</td>\n",
       "      <td>m</td>\n",
       "      <td>2019-08-18 11:37:07</td>\n",
       "    </tr>\n",
       "    <tr>\n",
       "      <th>1</th>\n",
       "      <td>f_id_er_kaz</td>\n",
       "      <td>0.0</td>\n",
       "      <td>2</td>\n",
       "      <td>m</td>\n",
       "      <td>2019-08-18 11:37:07</td>\n",
       "    </tr>\n",
       "    <tr>\n",
       "      <th>2</th>\n",
       "      <td>f_it_pa4</td>\n",
       "      <td>0.0</td>\n",
       "      <td>3</td>\n",
       "      <td>m</td>\n",
       "      <td>2019-08-18 11:37:07</td>\n",
       "    </tr>\n",
       "    <tr>\n",
       "      <th>3</th>\n",
       "      <td>f_it_pa2</td>\n",
       "      <td>0.0</td>\n",
       "      <td>4</td>\n",
       "      <td>m</td>\n",
       "      <td>2019-08-18 11:37:07</td>\n",
       "    </tr>\n",
       "    <tr>\n",
       "      <th>4</th>\n",
       "      <td>f_it_ap1</td>\n",
       "      <td>0.0</td>\n",
       "      <td>5</td>\n",
       "      <td>m</td>\n",
       "      <td>2019-08-18 11:37:07</td>\n",
       "    </tr>\n",
       "    <tr>\n",
       "      <th>5</th>\n",
       "      <td>f_it_ap3</td>\n",
       "      <td>0.0</td>\n",
       "      <td>6</td>\n",
       "      <td>m</td>\n",
       "      <td>2019-08-18 11:37:07</td>\n",
       "    </tr>\n",
       "    <tr>\n",
       "      <th>6</th>\n",
       "      <td>f_it_ep1</td>\n",
       "      <td>0.0</td>\n",
       "      <td>7</td>\n",
       "      <td>m</td>\n",
       "      <td>2019-08-18 11:37:07</td>\n",
       "    </tr>\n",
       "    <tr>\n",
       "      <th>7</th>\n",
       "      <td>f_it_ep3</td>\n",
       "      <td>0.0</td>\n",
       "      <td>8</td>\n",
       "      <td>m</td>\n",
       "      <td>2019-08-18 11:37:07</td>\n",
       "    </tr>\n",
       "    <tr>\n",
       "      <th>8</th>\n",
       "      <td>f_it_tp1</td>\n",
       "      <td>0.0</td>\n",
       "      <td>9</td>\n",
       "      <td>m</td>\n",
       "      <td>2019-08-18 11:37:07</td>\n",
       "    </tr>\n",
       "    <tr>\n",
       "      <th>9</th>\n",
       "      <td>f_od_sziv_kaz</td>\n",
       "      <td>0.0</td>\n",
       "      <td>10</td>\n",
       "      <td>m</td>\n",
       "      <td>2019-08-18 11:37:07</td>\n",
       "    </tr>\n",
       "  </tbody>\n",
       "</table>\n",
       "</div>"
      ],
      "text/plain": [
       "      Változónév    1   5  6                    7\n",
       "0       f_id_kaz  0.0   1  m  2019-08-18 11:37:07\n",
       "1    f_id_er_kaz  0.0   2  m  2019-08-18 11:37:07\n",
       "2       f_it_pa4  0.0   3  m  2019-08-18 11:37:07\n",
       "3       f_it_pa2  0.0   4  m  2019-08-18 11:37:07\n",
       "4       f_it_ap1  0.0   5  m  2019-08-18 11:37:07\n",
       "5       f_it_ap3  0.0   6  m  2019-08-18 11:37:07\n",
       "6       f_it_ep1  0.0   7  m  2019-08-18 11:37:07\n",
       "7       f_it_ep3  0.0   8  m  2019-08-18 11:37:07\n",
       "8       f_it_tp1  0.0   9  m  2019-08-18 11:37:07\n",
       "9  f_od_sziv_kaz  0.0  10  m  2019-08-18 11:37:07"
      ]
     },
     "execution_count": 20,
     "metadata": {},
     "output_type": "execute_result"
    }
   ],
   "source": [
    "df.head(10)"
   ]
  },
  {
   "cell_type": "markdown",
   "metadata": {},
   "source": [
    "## Duplikált sorok eldobása\n",
    "Az adatok elemzésénél félrevezető lehet, ha az adathalmaz duplikátumokat tartalmaz. A jelen esetben az adatok egy felügyeleti rendszerből származnak, a működés során keletkeztek, így duplikáció nem jelenik meg benne, de egy ismeretlen adatforrás esetén lehetnek az adatokban duplikációk. Ezeket az elemzés előtt érdemes eltüntetni, hogy ne torzítsák az elemzést.\n"
   ]
  },
  {
   "cell_type": "code",
   "execution_count": 21,
   "metadata": {},
   "outputs": [
    {
     "name": "stdout",
     "output_type": "stream",
     "text": [
      "Az adathalmaz alakja:  (35656, 5)\n",
      "A duplikált sorok száma:  (0, 5)\n"
     ]
    }
   ],
   "source": [
    "print(\"Az adathalmaz alakja: \", df.shape)\n",
    "# A duplikált sorok:\n",
    "duplicate_rows_df = df[df.duplicated()]\n",
    "print(\"A duplikált sorok száma: \", duplicate_rows_df.shape)\n"
   ]
  },
  {
   "cell_type": "markdown",
   "metadata": {},
   "source": [
    "Jól látszik, hogy nincsenek duplikált sorok az adathalmazban.\n",
    "\n",
    "Ha lennének duplikátumok, az alábbi egyszerű módszerrel törölhetnénk azokat:\n",
    "\n",
    "`df = df.drop_duplicates()`"
   ]
  },
  {
   "cell_type": "markdown",
   "metadata": {},
   "source": [
    "## Hiányzó és null értékek eldobása\n",
    "Az adattisztítás egy másik fontos eleme a hiányzó, illetve null értékek eldobása. Egyrészt a statisztikákat torzítanák, másrészt számos olyan függvény létezik, első sorban megjelenítő függvények, amelyek nem kezelik a hiányzó értékeket.\n",
    "\n",
    "Mivel korábban eldobtuk a NaN értékeket tartalmazó oszlopokat, újra betöltjük az adatokat."
   ]
  },
  {
   "cell_type": "code",
   "execution_count": 22,
   "metadata": {},
   "outputs": [
    {
     "data": {
      "text/html": [
       "<div>\n",
       "<style scoped>\n",
       "    .dataframe tbody tr th:only-of-type {\n",
       "        vertical-align: middle;\n",
       "    }\n",
       "\n",
       "    .dataframe tbody tr th {\n",
       "        vertical-align: top;\n",
       "    }\n",
       "\n",
       "    .dataframe thead th {\n",
       "        text-align: right;\n",
       "    }\n",
       "</style>\n",
       "<table border=\"1\" class=\"dataframe\">\n",
       "  <thead>\n",
       "    <tr style=\"text-align: right;\">\n",
       "      <th></th>\n",
       "      <th>0</th>\n",
       "      <th>1</th>\n",
       "      <th>2</th>\n",
       "      <th>3</th>\n",
       "      <th>4</th>\n",
       "      <th>5</th>\n",
       "      <th>6</th>\n",
       "      <th>7</th>\n",
       "    </tr>\n",
       "  </thead>\n",
       "  <tbody>\n",
       "    <tr>\n",
       "      <th>0</th>\n",
       "      <td>f_id_kaz</td>\n",
       "      <td>0.0</td>\n",
       "      <td>NaN</td>\n",
       "      <td>n</td>\n",
       "      <td>NaN</td>\n",
       "      <td>1</td>\n",
       "      <td>m</td>\n",
       "      <td>2019-08-18 11:37:07</td>\n",
       "    </tr>\n",
       "    <tr>\n",
       "      <th>1</th>\n",
       "      <td>f_id_er_kaz</td>\n",
       "      <td>0.0</td>\n",
       "      <td>NaN</td>\n",
       "      <td>n</td>\n",
       "      <td>NaN</td>\n",
       "      <td>2</td>\n",
       "      <td>m</td>\n",
       "      <td>2019-08-18 11:37:07</td>\n",
       "    </tr>\n",
       "    <tr>\n",
       "      <th>2</th>\n",
       "      <td>f_it_pa4</td>\n",
       "      <td>0.0</td>\n",
       "      <td>NaN</td>\n",
       "      <td>n</td>\n",
       "      <td>NaN</td>\n",
       "      <td>3</td>\n",
       "      <td>m</td>\n",
       "      <td>2019-08-18 11:37:07</td>\n",
       "    </tr>\n",
       "    <tr>\n",
       "      <th>3</th>\n",
       "      <td>f_it_pa2</td>\n",
       "      <td>0.0</td>\n",
       "      <td>NaN</td>\n",
       "      <td>n</td>\n",
       "      <td>NaN</td>\n",
       "      <td>4</td>\n",
       "      <td>m</td>\n",
       "      <td>2019-08-18 11:37:07</td>\n",
       "    </tr>\n",
       "    <tr>\n",
       "      <th>4</th>\n",
       "      <td>f_it_ap1</td>\n",
       "      <td>0.0</td>\n",
       "      <td>NaN</td>\n",
       "      <td>n</td>\n",
       "      <td>NaN</td>\n",
       "      <td>5</td>\n",
       "      <td>m</td>\n",
       "      <td>2019-08-18 11:37:07</td>\n",
       "    </tr>\n",
       "    <tr>\n",
       "      <th>5</th>\n",
       "      <td>f_it_ap3</td>\n",
       "      <td>0.0</td>\n",
       "      <td>NaN</td>\n",
       "      <td>n</td>\n",
       "      <td>NaN</td>\n",
       "      <td>6</td>\n",
       "      <td>m</td>\n",
       "      <td>2019-08-18 11:37:07</td>\n",
       "    </tr>\n",
       "    <tr>\n",
       "      <th>6</th>\n",
       "      <td>f_it_ep1</td>\n",
       "      <td>0.0</td>\n",
       "      <td>NaN</td>\n",
       "      <td>n</td>\n",
       "      <td>NaN</td>\n",
       "      <td>7</td>\n",
       "      <td>m</td>\n",
       "      <td>2019-08-18 11:37:07</td>\n",
       "    </tr>\n",
       "    <tr>\n",
       "      <th>7</th>\n",
       "      <td>f_it_ep3</td>\n",
       "      <td>0.0</td>\n",
       "      <td>NaN</td>\n",
       "      <td>n</td>\n",
       "      <td>NaN</td>\n",
       "      <td>8</td>\n",
       "      <td>m</td>\n",
       "      <td>2019-08-18 11:37:07</td>\n",
       "    </tr>\n",
       "    <tr>\n",
       "      <th>8</th>\n",
       "      <td>f_it_tp1</td>\n",
       "      <td>0.0</td>\n",
       "      <td>NaN</td>\n",
       "      <td>n</td>\n",
       "      <td>NaN</td>\n",
       "      <td>9</td>\n",
       "      <td>m</td>\n",
       "      <td>2019-08-18 11:37:07</td>\n",
       "    </tr>\n",
       "    <tr>\n",
       "      <th>9</th>\n",
       "      <td>f_od_sziv_kaz</td>\n",
       "      <td>0.0</td>\n",
       "      <td>NaN</td>\n",
       "      <td>n</td>\n",
       "      <td>NaN</td>\n",
       "      <td>10</td>\n",
       "      <td>m</td>\n",
       "      <td>2019-08-18 11:37:07</td>\n",
       "    </tr>\n",
       "  </tbody>\n",
       "</table>\n",
       "</div>"
      ],
      "text/plain": [
       "               0    1   2  3   4   5  6                    7\n",
       "0       f_id_kaz  0.0 NaN  n NaN   1  m  2019-08-18 11:37:07\n",
       "1    f_id_er_kaz  0.0 NaN  n NaN   2  m  2019-08-18 11:37:07\n",
       "2       f_it_pa4  0.0 NaN  n NaN   3  m  2019-08-18 11:37:07\n",
       "3       f_it_pa2  0.0 NaN  n NaN   4  m  2019-08-18 11:37:07\n",
       "4       f_it_ap1  0.0 NaN  n NaN   5  m  2019-08-18 11:37:07\n",
       "5       f_it_ap3  0.0 NaN  n NaN   6  m  2019-08-18 11:37:07\n",
       "6       f_it_ep1  0.0 NaN  n NaN   7  m  2019-08-18 11:37:07\n",
       "7       f_it_ep3  0.0 NaN  n NaN   8  m  2019-08-18 11:37:07\n",
       "8       f_it_tp1  0.0 NaN  n NaN   9  m  2019-08-18 11:37:07\n",
       "9  f_od_sziv_kaz  0.0 NaN  n NaN  10  m  2019-08-18 11:37:07"
      ]
     },
     "execution_count": 22,
     "metadata": {},
     "output_type": "execute_result"
    }
   ],
   "source": [
    "df = pd.read_csv('./logs/msvlog1_201908.csv', sep=';', header=None)\n",
    "df.head(10)"
   ]
  },
  {
   "cell_type": "markdown",
   "metadata": {},
   "source": [
    "Az alábbi módszerrel tudjuk nagyon egyszerűen megállapítani, hogy hány null érték van az egyes oszlopokban."
   ]
  },
  {
   "cell_type": "code",
   "execution_count": 23,
   "metadata": {},
   "outputs": [
    {
     "name": "stdout",
     "output_type": "stream",
     "text": [
      "0        0\n",
      "1        0\n",
      "2    35656\n",
      "3        0\n",
      "4    35656\n",
      "5        0\n",
      "6        0\n",
      "7        0\n",
      "dtype: int64\n"
     ]
    }
   ],
   "source": [
    "print(df.isnull().sum())"
   ]
  },
  {
   "cell_type": "markdown",
   "metadata": {},
   "source": [
    "Az alábbi módszerrel tudjuk eldobni a null értéket tartalmazó sorokat:"
   ]
  },
  {
   "cell_type": "code",
   "execution_count": 24,
   "metadata": {},
   "outputs": [
    {
     "data": {
      "text/plain": [
       "0    0\n",
       "1    0\n",
       "2    0\n",
       "3    0\n",
       "4    0\n",
       "5    0\n",
       "6    0\n",
       "7    0\n",
       "dtype: int64"
      ]
     },
     "execution_count": 24,
     "metadata": {},
     "output_type": "execute_result"
    }
   ],
   "source": [
    "df = df.dropna() \n",
    "df.count()"
   ]
  },
  {
   "cell_type": "markdown",
   "metadata": {},
   "source": [
    "Jól látszik, hogy a mi esetünkben, mivel az adathalmaz olyan oszolopokat tartalmaz, amelyekben minden sorban NaN érték található, a fenti utasítás az összes sort eldobja.\n",
    "Annak érdekében, hogy folytassuk, újra beolvassuk az adatokat.\n"
   ]
  },
  {
   "cell_type": "code",
   "execution_count": 25,
   "metadata": {},
   "outputs": [
    {
     "data": {
      "text/html": [
       "<div>\n",
       "<style scoped>\n",
       "    .dataframe tbody tr th:only-of-type {\n",
       "        vertical-align: middle;\n",
       "    }\n",
       "\n",
       "    .dataframe tbody tr th {\n",
       "        vertical-align: top;\n",
       "    }\n",
       "\n",
       "    .dataframe thead th {\n",
       "        text-align: right;\n",
       "    }\n",
       "</style>\n",
       "<table border=\"1\" class=\"dataframe\">\n",
       "  <thead>\n",
       "    <tr style=\"text-align: right;\">\n",
       "      <th></th>\n",
       "      <th>0</th>\n",
       "      <th>1</th>\n",
       "      <th>2</th>\n",
       "      <th>3</th>\n",
       "      <th>4</th>\n",
       "      <th>5</th>\n",
       "      <th>6</th>\n",
       "      <th>7</th>\n",
       "    </tr>\n",
       "  </thead>\n",
       "  <tbody>\n",
       "    <tr>\n",
       "      <th>0</th>\n",
       "      <td>f_id_kaz</td>\n",
       "      <td>0.0</td>\n",
       "      <td>NaN</td>\n",
       "      <td>n</td>\n",
       "      <td>NaN</td>\n",
       "      <td>1</td>\n",
       "      <td>m</td>\n",
       "      <td>2019-08-18 11:37:07</td>\n",
       "    </tr>\n",
       "    <tr>\n",
       "      <th>1</th>\n",
       "      <td>f_id_er_kaz</td>\n",
       "      <td>0.0</td>\n",
       "      <td>NaN</td>\n",
       "      <td>n</td>\n",
       "      <td>NaN</td>\n",
       "      <td>2</td>\n",
       "      <td>m</td>\n",
       "      <td>2019-08-18 11:37:07</td>\n",
       "    </tr>\n",
       "    <tr>\n",
       "      <th>2</th>\n",
       "      <td>f_it_pa4</td>\n",
       "      <td>0.0</td>\n",
       "      <td>NaN</td>\n",
       "      <td>n</td>\n",
       "      <td>NaN</td>\n",
       "      <td>3</td>\n",
       "      <td>m</td>\n",
       "      <td>2019-08-18 11:37:07</td>\n",
       "    </tr>\n",
       "    <tr>\n",
       "      <th>3</th>\n",
       "      <td>f_it_pa2</td>\n",
       "      <td>0.0</td>\n",
       "      <td>NaN</td>\n",
       "      <td>n</td>\n",
       "      <td>NaN</td>\n",
       "      <td>4</td>\n",
       "      <td>m</td>\n",
       "      <td>2019-08-18 11:37:07</td>\n",
       "    </tr>\n",
       "    <tr>\n",
       "      <th>4</th>\n",
       "      <td>f_it_ap1</td>\n",
       "      <td>0.0</td>\n",
       "      <td>NaN</td>\n",
       "      <td>n</td>\n",
       "      <td>NaN</td>\n",
       "      <td>5</td>\n",
       "      <td>m</td>\n",
       "      <td>2019-08-18 11:37:07</td>\n",
       "    </tr>\n",
       "    <tr>\n",
       "      <th>5</th>\n",
       "      <td>f_it_ap3</td>\n",
       "      <td>0.0</td>\n",
       "      <td>NaN</td>\n",
       "      <td>n</td>\n",
       "      <td>NaN</td>\n",
       "      <td>6</td>\n",
       "      <td>m</td>\n",
       "      <td>2019-08-18 11:37:07</td>\n",
       "    </tr>\n",
       "    <tr>\n",
       "      <th>6</th>\n",
       "      <td>f_it_ep1</td>\n",
       "      <td>0.0</td>\n",
       "      <td>NaN</td>\n",
       "      <td>n</td>\n",
       "      <td>NaN</td>\n",
       "      <td>7</td>\n",
       "      <td>m</td>\n",
       "      <td>2019-08-18 11:37:07</td>\n",
       "    </tr>\n",
       "    <tr>\n",
       "      <th>7</th>\n",
       "      <td>f_it_ep3</td>\n",
       "      <td>0.0</td>\n",
       "      <td>NaN</td>\n",
       "      <td>n</td>\n",
       "      <td>NaN</td>\n",
       "      <td>8</td>\n",
       "      <td>m</td>\n",
       "      <td>2019-08-18 11:37:07</td>\n",
       "    </tr>\n",
       "    <tr>\n",
       "      <th>8</th>\n",
       "      <td>f_it_tp1</td>\n",
       "      <td>0.0</td>\n",
       "      <td>NaN</td>\n",
       "      <td>n</td>\n",
       "      <td>NaN</td>\n",
       "      <td>9</td>\n",
       "      <td>m</td>\n",
       "      <td>2019-08-18 11:37:07</td>\n",
       "    </tr>\n",
       "    <tr>\n",
       "      <th>9</th>\n",
       "      <td>f_od_sziv_kaz</td>\n",
       "      <td>0.0</td>\n",
       "      <td>NaN</td>\n",
       "      <td>n</td>\n",
       "      <td>NaN</td>\n",
       "      <td>10</td>\n",
       "      <td>m</td>\n",
       "      <td>2019-08-18 11:37:07</td>\n",
       "    </tr>\n",
       "  </tbody>\n",
       "</table>\n",
       "</div>"
      ],
      "text/plain": [
       "               0    1   2  3   4   5  6                    7\n",
       "0       f_id_kaz  0.0 NaN  n NaN   1  m  2019-08-18 11:37:07\n",
       "1    f_id_er_kaz  0.0 NaN  n NaN   2  m  2019-08-18 11:37:07\n",
       "2       f_it_pa4  0.0 NaN  n NaN   3  m  2019-08-18 11:37:07\n",
       "3       f_it_pa2  0.0 NaN  n NaN   4  m  2019-08-18 11:37:07\n",
       "4       f_it_ap1  0.0 NaN  n NaN   5  m  2019-08-18 11:37:07\n",
       "5       f_it_ap3  0.0 NaN  n NaN   6  m  2019-08-18 11:37:07\n",
       "6       f_it_ep1  0.0 NaN  n NaN   7  m  2019-08-18 11:37:07\n",
       "7       f_it_ep3  0.0 NaN  n NaN   8  m  2019-08-18 11:37:07\n",
       "8       f_it_tp1  0.0 NaN  n NaN   9  m  2019-08-18 11:37:07\n",
       "9  f_od_sziv_kaz  0.0 NaN  n NaN  10  m  2019-08-18 11:37:07"
      ]
     },
     "execution_count": 25,
     "metadata": {},
     "output_type": "execute_result"
    }
   ],
   "source": [
    "df = pd.read_csv('./logs/msvlog1_201908.csv', sep=';', header=None)\n",
    "df.head(10)"
   ]
  },
  {
   "cell_type": "markdown",
   "metadata": {},
   "source": [
    "## Kiugró értékek megkeresése\n",
    "A kiugró értékek egy adatsorban olyan értékek, amelyek az adaott adathalmad bizonyos statisztikai mutatójánát egy adott mértékkel meghaladják. A kiugró értékek torzítják a modellünket, ezért érdemes megtalálnunk, illetve eltüntetnünk azokat.\n",
    "\n",
    "Számos technikát, megközelítést alkalmaznak, ezek közül az egyik legelterjedtebb az úgynevezett IQR, hogy a kiugró értékeket meghatározzák.\n",
    "\n",
    "IQR = Q3-Q1\n",
    "\n",
    "Egy pont kiugrónak számít ebben a megközelítésben, ha értéke Q1 – 1.5×IQR alatt, vagy Q3 + 1.5×IQR felett van.\n",
    "\n",
    "Ehhez előkészítjük az adatokat.\n",
    "Minden egyes változót külön oszlopba helyezünk, így például egy hőmérő modul (ap1) mért hőmérsékleteiben kereshetünk kiugró adatokat.\n"
   ]
  },
  {
   "cell_type": "code",
   "execution_count": 26,
   "metadata": {},
   "outputs": [
    {
     "data": {
      "text/html": [
       "<div>\n",
       "<style scoped>\n",
       "    .dataframe tbody tr th:only-of-type {\n",
       "        vertical-align: middle;\n",
       "    }\n",
       "\n",
       "    .dataframe tbody tr th {\n",
       "        vertical-align: top;\n",
       "    }\n",
       "\n",
       "    .dataframe thead th {\n",
       "        text-align: right;\n",
       "    }\n",
       "</style>\n",
       "<table border=\"1\" class=\"dataframe\">\n",
       "  <thead>\n",
       "    <tr style=\"text-align: right;\">\n",
       "      <th></th>\n",
       "      <th>kaz</th>\n",
       "      <th>er_kaz</th>\n",
       "      <th>pa4</th>\n",
       "      <th>pa2</th>\n",
       "      <th>ap1</th>\n",
       "      <th>ap3</th>\n",
       "      <th>ep1</th>\n",
       "      <th>ep3</th>\n",
       "      <th>tp1</th>\n",
       "      <th>sziv_kaz</th>\n",
       "      <th>...</th>\n",
       "      <th>hmvuz</th>\n",
       "      <th>rad_phalo</th>\n",
       "      <th>tsz_pfur</th>\n",
       "      <th>rad_shalo</th>\n",
       "      <th>pf_pfur</th>\n",
       "      <th>pf_sfur</th>\n",
       "      <th>pf_tt</th>\n",
       "      <th>rad_vend</th>\n",
       "      <th>pf_vfur</th>\n",
       "      <th>pf_nap</th>\n",
       "    </tr>\n",
       "    <tr>\n",
       "      <th>datetime_index</th>\n",
       "      <th></th>\n",
       "      <th></th>\n",
       "      <th></th>\n",
       "      <th></th>\n",
       "      <th></th>\n",
       "      <th></th>\n",
       "      <th></th>\n",
       "      <th></th>\n",
       "      <th></th>\n",
       "      <th></th>\n",
       "      <th></th>\n",
       "      <th></th>\n",
       "      <th></th>\n",
       "      <th></th>\n",
       "      <th></th>\n",
       "      <th></th>\n",
       "      <th></th>\n",
       "      <th></th>\n",
       "      <th></th>\n",
       "      <th></th>\n",
       "      <th></th>\n",
       "    </tr>\n",
       "  </thead>\n",
       "  <tbody>\n",
       "    <tr>\n",
       "      <th>2019-08-18 11:37:07</th>\n",
       "      <td>0.0</td>\n",
       "      <td>0.0</td>\n",
       "      <td>0.0</td>\n",
       "      <td>0.0</td>\n",
       "      <td>0.0</td>\n",
       "      <td>0.0</td>\n",
       "      <td>0.0</td>\n",
       "      <td>0.0</td>\n",
       "      <td>0.0</td>\n",
       "      <td>0.0</td>\n",
       "      <td>...</td>\n",
       "      <td>0.0</td>\n",
       "      <td>0.0</td>\n",
       "      <td>0.0</td>\n",
       "      <td>0.0</td>\n",
       "      <td>0.0</td>\n",
       "      <td>0.0</td>\n",
       "      <td>0.0</td>\n",
       "      <td>0.0</td>\n",
       "      <td>0.0</td>\n",
       "      <td>0.0</td>\n",
       "    </tr>\n",
       "    <tr>\n",
       "      <th>2019-08-18 11:37:07</th>\n",
       "      <td>0.0</td>\n",
       "      <td>0.0</td>\n",
       "      <td>0.0</td>\n",
       "      <td>0.0</td>\n",
       "      <td>0.0</td>\n",
       "      <td>0.0</td>\n",
       "      <td>0.0</td>\n",
       "      <td>0.0</td>\n",
       "      <td>0.0</td>\n",
       "      <td>0.0</td>\n",
       "      <td>...</td>\n",
       "      <td>0.0</td>\n",
       "      <td>0.0</td>\n",
       "      <td>0.0</td>\n",
       "      <td>0.0</td>\n",
       "      <td>0.0</td>\n",
       "      <td>0.0</td>\n",
       "      <td>0.0</td>\n",
       "      <td>0.0</td>\n",
       "      <td>0.0</td>\n",
       "      <td>0.0</td>\n",
       "    </tr>\n",
       "    <tr>\n",
       "      <th>2019-08-18 11:37:07</th>\n",
       "      <td>0.0</td>\n",
       "      <td>0.0</td>\n",
       "      <td>0.0</td>\n",
       "      <td>0.0</td>\n",
       "      <td>0.0</td>\n",
       "      <td>0.0</td>\n",
       "      <td>0.0</td>\n",
       "      <td>0.0</td>\n",
       "      <td>0.0</td>\n",
       "      <td>0.0</td>\n",
       "      <td>...</td>\n",
       "      <td>0.0</td>\n",
       "      <td>0.0</td>\n",
       "      <td>0.0</td>\n",
       "      <td>0.0</td>\n",
       "      <td>0.0</td>\n",
       "      <td>0.0</td>\n",
       "      <td>0.0</td>\n",
       "      <td>0.0</td>\n",
       "      <td>0.0</td>\n",
       "      <td>0.0</td>\n",
       "    </tr>\n",
       "    <tr>\n",
       "      <th>2019-08-18 11:37:07</th>\n",
       "      <td>0.0</td>\n",
       "      <td>0.0</td>\n",
       "      <td>0.0</td>\n",
       "      <td>0.0</td>\n",
       "      <td>0.0</td>\n",
       "      <td>0.0</td>\n",
       "      <td>0.0</td>\n",
       "      <td>0.0</td>\n",
       "      <td>0.0</td>\n",
       "      <td>0.0</td>\n",
       "      <td>...</td>\n",
       "      <td>0.0</td>\n",
       "      <td>0.0</td>\n",
       "      <td>0.0</td>\n",
       "      <td>0.0</td>\n",
       "      <td>0.0</td>\n",
       "      <td>0.0</td>\n",
       "      <td>0.0</td>\n",
       "      <td>0.0</td>\n",
       "      <td>0.0</td>\n",
       "      <td>0.0</td>\n",
       "    </tr>\n",
       "    <tr>\n",
       "      <th>2019-08-18 11:37:07</th>\n",
       "      <td>0.0</td>\n",
       "      <td>0.0</td>\n",
       "      <td>0.0</td>\n",
       "      <td>0.0</td>\n",
       "      <td>0.0</td>\n",
       "      <td>0.0</td>\n",
       "      <td>0.0</td>\n",
       "      <td>0.0</td>\n",
       "      <td>0.0</td>\n",
       "      <td>0.0</td>\n",
       "      <td>...</td>\n",
       "      <td>0.0</td>\n",
       "      <td>0.0</td>\n",
       "      <td>0.0</td>\n",
       "      <td>0.0</td>\n",
       "      <td>0.0</td>\n",
       "      <td>0.0</td>\n",
       "      <td>0.0</td>\n",
       "      <td>0.0</td>\n",
       "      <td>0.0</td>\n",
       "      <td>0.0</td>\n",
       "    </tr>\n",
       "    <tr>\n",
       "      <th>2019-08-18 11:37:07</th>\n",
       "      <td>0.0</td>\n",
       "      <td>0.0</td>\n",
       "      <td>0.0</td>\n",
       "      <td>0.0</td>\n",
       "      <td>0.0</td>\n",
       "      <td>0.0</td>\n",
       "      <td>0.0</td>\n",
       "      <td>0.0</td>\n",
       "      <td>0.0</td>\n",
       "      <td>0.0</td>\n",
       "      <td>...</td>\n",
       "      <td>0.0</td>\n",
       "      <td>0.0</td>\n",
       "      <td>0.0</td>\n",
       "      <td>0.0</td>\n",
       "      <td>0.0</td>\n",
       "      <td>0.0</td>\n",
       "      <td>0.0</td>\n",
       "      <td>0.0</td>\n",
       "      <td>0.0</td>\n",
       "      <td>0.0</td>\n",
       "    </tr>\n",
       "    <tr>\n",
       "      <th>2019-08-18 11:37:07</th>\n",
       "      <td>0.0</td>\n",
       "      <td>0.0</td>\n",
       "      <td>0.0</td>\n",
       "      <td>0.0</td>\n",
       "      <td>0.0</td>\n",
       "      <td>0.0</td>\n",
       "      <td>0.0</td>\n",
       "      <td>0.0</td>\n",
       "      <td>0.0</td>\n",
       "      <td>0.0</td>\n",
       "      <td>...</td>\n",
       "      <td>0.0</td>\n",
       "      <td>0.0</td>\n",
       "      <td>0.0</td>\n",
       "      <td>0.0</td>\n",
       "      <td>0.0</td>\n",
       "      <td>0.0</td>\n",
       "      <td>0.0</td>\n",
       "      <td>0.0</td>\n",
       "      <td>0.0</td>\n",
       "      <td>0.0</td>\n",
       "    </tr>\n",
       "    <tr>\n",
       "      <th>2019-08-18 11:37:07</th>\n",
       "      <td>0.0</td>\n",
       "      <td>0.0</td>\n",
       "      <td>0.0</td>\n",
       "      <td>0.0</td>\n",
       "      <td>0.0</td>\n",
       "      <td>0.0</td>\n",
       "      <td>0.0</td>\n",
       "      <td>0.0</td>\n",
       "      <td>0.0</td>\n",
       "      <td>0.0</td>\n",
       "      <td>...</td>\n",
       "      <td>0.0</td>\n",
       "      <td>0.0</td>\n",
       "      <td>0.0</td>\n",
       "      <td>0.0</td>\n",
       "      <td>0.0</td>\n",
       "      <td>0.0</td>\n",
       "      <td>0.0</td>\n",
       "      <td>0.0</td>\n",
       "      <td>0.0</td>\n",
       "      <td>0.0</td>\n",
       "    </tr>\n",
       "    <tr>\n",
       "      <th>2019-08-18 11:37:07</th>\n",
       "      <td>0.0</td>\n",
       "      <td>0.0</td>\n",
       "      <td>0.0</td>\n",
       "      <td>0.0</td>\n",
       "      <td>0.0</td>\n",
       "      <td>0.0</td>\n",
       "      <td>0.0</td>\n",
       "      <td>0.0</td>\n",
       "      <td>0.0</td>\n",
       "      <td>0.0</td>\n",
       "      <td>...</td>\n",
       "      <td>0.0</td>\n",
       "      <td>0.0</td>\n",
       "      <td>0.0</td>\n",
       "      <td>0.0</td>\n",
       "      <td>0.0</td>\n",
       "      <td>0.0</td>\n",
       "      <td>0.0</td>\n",
       "      <td>0.0</td>\n",
       "      <td>0.0</td>\n",
       "      <td>0.0</td>\n",
       "    </tr>\n",
       "    <tr>\n",
       "      <th>2019-08-18 11:37:07</th>\n",
       "      <td>0.0</td>\n",
       "      <td>0.0</td>\n",
       "      <td>0.0</td>\n",
       "      <td>0.0</td>\n",
       "      <td>0.0</td>\n",
       "      <td>0.0</td>\n",
       "      <td>0.0</td>\n",
       "      <td>0.0</td>\n",
       "      <td>0.0</td>\n",
       "      <td>0.0</td>\n",
       "      <td>...</td>\n",
       "      <td>0.0</td>\n",
       "      <td>0.0</td>\n",
       "      <td>0.0</td>\n",
       "      <td>0.0</td>\n",
       "      <td>0.0</td>\n",
       "      <td>0.0</td>\n",
       "      <td>0.0</td>\n",
       "      <td>0.0</td>\n",
       "      <td>0.0</td>\n",
       "      <td>0.0</td>\n",
       "    </tr>\n",
       "  </tbody>\n",
       "</table>\n",
       "<p>10 rows × 27 columns</p>\n",
       "</div>"
      ],
      "text/plain": [
       "                     kaz  er_kaz  pa4  pa2  ap1  ap3  ep1  ep3  tp1  sziv_kaz  \\\n",
       "datetime_index                                                                  \n",
       "2019-08-18 11:37:07  0.0     0.0  0.0  0.0  0.0  0.0  0.0  0.0  0.0       0.0   \n",
       "2019-08-18 11:37:07  0.0     0.0  0.0  0.0  0.0  0.0  0.0  0.0  0.0       0.0   \n",
       "2019-08-18 11:37:07  0.0     0.0  0.0  0.0  0.0  0.0  0.0  0.0  0.0       0.0   \n",
       "2019-08-18 11:37:07  0.0     0.0  0.0  0.0  0.0  0.0  0.0  0.0  0.0       0.0   \n",
       "2019-08-18 11:37:07  0.0     0.0  0.0  0.0  0.0  0.0  0.0  0.0  0.0       0.0   \n",
       "2019-08-18 11:37:07  0.0     0.0  0.0  0.0  0.0  0.0  0.0  0.0  0.0       0.0   \n",
       "2019-08-18 11:37:07  0.0     0.0  0.0  0.0  0.0  0.0  0.0  0.0  0.0       0.0   \n",
       "2019-08-18 11:37:07  0.0     0.0  0.0  0.0  0.0  0.0  0.0  0.0  0.0       0.0   \n",
       "2019-08-18 11:37:07  0.0     0.0  0.0  0.0  0.0  0.0  0.0  0.0  0.0       0.0   \n",
       "2019-08-18 11:37:07  0.0     0.0  0.0  0.0  0.0  0.0  0.0  0.0  0.0       0.0   \n",
       "\n",
       "                     ...  hmvuz  rad_phalo  tsz_pfur  rad_shalo  pf_pfur  \\\n",
       "datetime_index       ...                                                   \n",
       "2019-08-18 11:37:07  ...    0.0        0.0       0.0        0.0      0.0   \n",
       "2019-08-18 11:37:07  ...    0.0        0.0       0.0        0.0      0.0   \n",
       "2019-08-18 11:37:07  ...    0.0        0.0       0.0        0.0      0.0   \n",
       "2019-08-18 11:37:07  ...    0.0        0.0       0.0        0.0      0.0   \n",
       "2019-08-18 11:37:07  ...    0.0        0.0       0.0        0.0      0.0   \n",
       "2019-08-18 11:37:07  ...    0.0        0.0       0.0        0.0      0.0   \n",
       "2019-08-18 11:37:07  ...    0.0        0.0       0.0        0.0      0.0   \n",
       "2019-08-18 11:37:07  ...    0.0        0.0       0.0        0.0      0.0   \n",
       "2019-08-18 11:37:07  ...    0.0        0.0       0.0        0.0      0.0   \n",
       "2019-08-18 11:37:07  ...    0.0        0.0       0.0        0.0      0.0   \n",
       "\n",
       "                     pf_sfur  pf_tt  rad_vend  pf_vfur  pf_nap  \n",
       "datetime_index                                                  \n",
       "2019-08-18 11:37:07      0.0    0.0       0.0      0.0     0.0  \n",
       "2019-08-18 11:37:07      0.0    0.0       0.0      0.0     0.0  \n",
       "2019-08-18 11:37:07      0.0    0.0       0.0      0.0     0.0  \n",
       "2019-08-18 11:37:07      0.0    0.0       0.0      0.0     0.0  \n",
       "2019-08-18 11:37:07      0.0    0.0       0.0      0.0     0.0  \n",
       "2019-08-18 11:37:07      0.0    0.0       0.0      0.0     0.0  \n",
       "2019-08-18 11:37:07      0.0    0.0       0.0      0.0     0.0  \n",
       "2019-08-18 11:37:07      0.0    0.0       0.0      0.0     0.0  \n",
       "2019-08-18 11:37:07      0.0    0.0       0.0      0.0     0.0  \n",
       "2019-08-18 11:37:07      0.0    0.0       0.0      0.0     0.0  \n",
       "\n",
       "[10 rows x 27 columns]"
      ]
     },
     "execution_count": 26,
     "metadata": {},
     "output_type": "execute_result"
    }
   ],
   "source": [
    "df = pd.read_csv('preprocessed_data_080910.csv', sep=';')\n",
    "df['datetime'] = pd.to_datetime(df['datetime'])\n",
    "df['datetime_index'] = pd.to_datetime(df['datetime_index'])\n",
    "df = df.set_index('datetime_index')\n",
    "\n",
    "variables = df.NVariable.unique().tolist()\n",
    "\n",
    "new_df = df\n",
    "for variable in variables:\n",
    "    new_df[variable] = df['Value']  \n",
    "\n",
    "new_df = new_df.drop(['Value', 'datetime', 'Module', 'IO', 'NVariable'], axis=1)\n",
    "new_df.head(10)"
   ]
  },
  {
   "cell_type": "code",
   "execution_count": 27,
   "metadata": {},
   "outputs": [
    {
     "data": {
      "text/plain": [
       "<matplotlib.axes._subplots.AxesSubplot at 0x7f818b829cf8>"
      ]
     },
     "execution_count": 27,
     "metadata": {},
     "output_type": "execute_result"
    },
    {
     "data": {
      "image/png": "[encoded data removed]",
      "text/plain": [
       "<Figure size 432x288 with 1 Axes>"
      ]
     },
     "metadata": {
      "needs_background": "light"
     },
     "output_type": "display_data"
    }
   ],
   "source": [
    "sns.boxplot(x=new_df['ap1'])"
   ]
  },
  {
   "cell_type": "markdown",
   "metadata": {},
   "source": [
    "A fenti ábrán jól látszik, hogy a hőmérsékletek nagyrészt 22 és 27 fok között vannak, de vannak 0 és pár fokos értékek is. Ezek a normál tartományra vetítve kiugró értékeknek tűnnek.\n",
    "A hőmérsékletre kiszámítjuk az IQR-t."
   ]
  },
  {
   "cell_type": "code",
   "execution_count": 28,
   "metadata": {},
   "outputs": [
    {
     "name": "stdout",
     "output_type": "stream",
     "text": [
      "kaz          4.25\n",
      "er_kaz       4.25\n",
      "pa4          4.25\n",
      "pa2          4.25\n",
      "ap1          4.25\n",
      "ap3          4.25\n",
      "ep1          4.25\n",
      "ep3          4.25\n",
      "tp1          4.25\n",
      "sziv_kaz     4.25\n",
      "sziv_pf      4.25\n",
      "sziv_rad     4.25\n",
      "sziv_hmv     4.25\n",
      "sziv_jac     4.25\n",
      "sziv_kal     4.25\n",
      "pf_spa       4.25\n",
      "hmvcirk      4.25\n",
      "hmvuz        4.25\n",
      "rad_phalo    4.25\n",
      "tsz_pfur     4.25\n",
      "rad_shalo    4.25\n",
      "pf_pfur      4.25\n",
      "pf_sfur      4.25\n",
      "pf_tt        4.25\n",
      "rad_vend     4.25\n",
      "pf_vfur      4.25\n",
      "pf_nap       4.25\n",
      "dtype: float64\n"
     ]
    }
   ],
   "source": [
    "Q1 = new_df.quantile(0.25)\n",
    "Q3 = new_df.quantile(0.75)\n",
    "IQR = Q3 - Q1\n",
    "print(IQR)"
   ]
  },
  {
   "cell_type": "code",
   "execution_count": 29,
   "metadata": {},
   "outputs": [
    {
     "data": {
      "text/plain": [
       "(189957, 27)"
      ]
     },
     "execution_count": 29,
     "metadata": {},
     "output_type": "execute_result"
    }
   ],
   "source": [
    "new_df.shape"
   ]
  },
  {
   "cell_type": "markdown",
   "metadata": {},
   "source": [
    "A fenti definíció szerint kitöröljük a kiugró értékeket:"
   ]
  },
  {
   "cell_type": "code",
   "execution_count": 30,
   "metadata": {},
   "outputs": [
    {
     "data": {
      "text/plain": [
       "(160947, 27)"
      ]
     },
     "execution_count": 30,
     "metadata": {},
     "output_type": "execute_result"
    }
   ],
   "source": [
    "new_df = new_df[~((new_df < (Q1 - 1.5 * IQR)) |(new_df > (Q3 + 1.5 * IQR))).any(axis=1)]\n",
    "new_df.shape"
   ]
  },
  {
   "cell_type": "markdown",
   "metadata": {},
   "source": [
    "Jól látszik, hogy majdnem 30,000 érték törlődött. A boxplotot újra megjelenítve jól látszik az adattisztítás hatása. A box-plotot újra megjelenítve jól látható, hogy eltűntek a kiugró értékek."
   ]
  },
  {
   "cell_type": "code",
   "execution_count": 31,
   "metadata": {},
   "outputs": [
    {
     "data": {
      "text/plain": [
       "<matplotlib.axes._subplots.AxesSubplot at 0x7f818ba56b38>"
      ]
     },
     "execution_count": 31,
     "metadata": {},
     "output_type": "execute_result"
    },
    {
     "data": {
      "image/png": "[encoded data removed]",
      "text/plain": [
       "<Figure size 432x288 with 1 Axes>"
      ]
     },
     "metadata": {
      "needs_background": "light"
     },
     "output_type": "display_data"
    }
   ],
   "source": [
    "sns.boxplot(x=new_df['ap1'])"
   ]
  },
  {
   "cell_type": "markdown",
   "metadata": {},
   "source": [
    "## Hasznos megjelenítések\n",
    "A felderítő adatelemzés során gyakran vizuális elemzés az első lépés, amivel leghatékonyabban tudjuk megállapítani az adathalmaz bizonyos kulcs jellemzőit. Tipikusan két dimenzióban jelenítünk meg adatokat, akár az idő, akár két változó tekintetében.\n",
    "\n",
    "### Hisztogram\n",
    "\n",
    "A hisztogram egy változó értékeinek eloszlását mitatja valamilyen felosztás szerint (tipikusan egyenlő szélességű intervallumokban).\n",
    "A példánkban a 10 leggyakrabban előforduló hőmérséklet értéket mutatjuk meg csökkenő sorrendben."
   ]
  },
  {
   "cell_type": "code",
   "execution_count": 32,
   "metadata": {},
   "outputs": [
    {
     "data": {
      "image/png": "[encoded data removed]",
      "text/plain": [
       "<Figure size 720x360 with 1 Axes>"
      ]
     },
     "metadata": {
      "needs_background": "light"
     },
     "output_type": "display_data"
    }
   ],
   "source": [
    "new_df.ap1.value_counts().nlargest(10).plot(kind='bar', figsize=(10,5))\n",
    "plt.title(\"Mért hőmérséklet értékek darabszáma hőmérséklet intervallumonként\")\n",
    "plt.ylabel(\"Hőmérséklet értékek darabszáma\")\n",
    "plt.xlabel(\"Hőmérséklet intervallum\");\n"
   ]
  },
  {
   "cell_type": "markdown",
   "metadata": {},
   "source": [
    "### Hőtérképek\n",
    "\n",
    "A hőtérképek használata nagy segítséget nyújt függő változók beazonosításában.\n",
    "Jelen esetben egy vezérlőegység összefüggő adataival dolgozunk, így a korrelációs mátrix cellái egyeseket tartalmaznak, ebben az esetben a hőtérkép nem releváns.\n",
    "A vizuális kiértékeléshez lényegesen kevesebb változóval érdemes dolgozni, 27 változó nehezen áttekinthető."
   ]
  },
  {
   "cell_type": "code",
   "execution_count": 33,
   "metadata": {},
   "outputs": [
    {
     "data": {
      "text/plain": [
       "<matplotlib.axes._subplots.AxesSubplot at 0x7f818bd04e80>"
      ]
     },
     "execution_count": 33,
     "metadata": {},
     "output_type": "execute_result"
    },
    {
     "data": {
      "image/png": "[encoded data removed]",
      "text/plain": [
       "<Figure size 1440x720 with 2 Axes>"
      ]
     },
     "metadata": {
      "needs_background": "light"
     },
     "output_type": "display_data"
    }
   ],
   "source": [
    "plt.figure(figsize=(20,10))\n",
    "c= new_df.corr()\n",
    "sns.heatmap(c,cmap=\"BrBG\",annot=True)"
   ]
  },
  {
   "cell_type": "markdown",
   "metadata": {},
   "source": [
    "### Scatterplot\n",
    "\n",
    "A scatter plotot általában változók közti korreláció beazonosítására használjuk.\n",
    "A plotra trendvonalak rajzolhatóak. A jelen esetben a hőmérséklet és a kazánvezérlés között 1-es a korreláció, így a scatter plot magát a trendvonalat adja."
   ]
  },
  {
   "cell_type": "code",
   "execution_count": 34,
   "metadata": {},
   "outputs": [
    {
     "data": {
      "image/png": "[encoded data removed]",
      "text/plain": [
       "<Figure size 720x432 with 1 Axes>"
      ]
     },
     "metadata": {
      "needs_background": "light"
     },
     "output_type": "display_data"
    }
   ],
   "source": [
    "fig, ax = plt.subplots(figsize=(10,6))\n",
    "ax.scatter(new_df['ap1'], new_df['kaz'])\n",
    "ax.set_xlabel('ap1')\n",
    "ax.set_ylabel('kaz')\n",
    "plt.show()"
   ]
  }
 ],
 "metadata": {
  "kernelspec": {
   "display_name": "Python 3",
   "language": "python",
   "name": "python3"
  },
  "language_info": {
   "codemirror_mode": {
    "name": "ipython",
    "version": 3
   },
   "file_extension": ".py",
   "mimetype": "text/x-python",
   "name": "python",
   "nbconvert_exporter": "python",
   "pygments_lexer": "ipython3",
   "version": "3.7.3"
  }
 },
 "nbformat": 4,
 "nbformat_minor": 2
}
